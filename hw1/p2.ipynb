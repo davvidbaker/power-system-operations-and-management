{
 "cells": [
  {
   "cell_type": "markdown",
   "metadata": {},
   "source": [
    "Newton Raphson\n"
   ]
  },
  {
   "cell_type": "code",
   "execution_count": 40,
   "metadata": {},
   "outputs": [
    {
     "data": {
      "text/html": [
       "<div>\n",
       "<style scoped>\n",
       "    .dataframe tbody tr th:only-of-type {\n",
       "        vertical-align: middle;\n",
       "    }\n",
       "\n",
       "    .dataframe tbody tr th {\n",
       "        vertical-align: top;\n",
       "    }\n",
       "\n",
       "    .dataframe thead th {\n",
       "        text-align: right;\n",
       "    }\n",
       "</style>\n",
       "<table border=\"1\" class=\"dataframe\">\n",
       "  <thead>\n",
       "    <tr style=\"text-align: right;\">\n",
       "      <th></th>\n",
       "      <th>iteration</th>\n",
       "      <th>angle for bus 2 [radians]</th>\n",
       "      <th>magnitude for bus 2 [pu]</th>\n",
       "    </tr>\n",
       "  </thead>\n",
       "  <tbody>\n",
       "    <tr>\n",
       "      <th>0</th>\n",
       "      <td>1</td>\n",
       "      <td>-0.01500</td>\n",
       "      <td>0.991000</td>\n",
       "    </tr>\n",
       "    <tr>\n",
       "      <th>1</th>\n",
       "      <td>2</td>\n",
       "      <td>-0.01514</td>\n",
       "      <td>0.990798</td>\n",
       "    </tr>\n",
       "    <tr>\n",
       "      <th>2</th>\n",
       "      <td>3</td>\n",
       "      <td>-0.01514</td>\n",
       "      <td>0.990802</td>\n",
       "    </tr>\n",
       "  </tbody>\n",
       "</table>\n",
       "</div>"
      ],
      "text/plain": [
       "   iteration  angle for bus 2 [radians]  magnitude for bus 2 [pu]\n",
       "0          1                   -0.01500                  0.991000\n",
       "1          2                   -0.01514                  0.990798\n",
       "2          3                   -0.01514                  0.990802"
      ]
     },
     "execution_count": 40,
     "metadata": {},
     "output_type": "execute_result"
    }
   ],
   "source": [
    "import numpy as np\n",
    "import pandas as pd\n",
    "\n",
    "\n",
    "# X = [[delta, v]]\n",
    "# flat start\n",
    "X = [np.array([0, 1])]\n",
    "\n",
    "\n",
    "B_21 = 33.33333333\n",
    "B_22 = -33.33333333\n",
    "\n",
    "\n",
    "def jacobian_inverse(x):\n",
    "    delta = x[0]\n",
    "    v = x[1]\n",
    "    J = np.matrix(\n",
    "        [\n",
    "            [B_21 * v * np.cos(delta), B_21 * np.sin(delta)],\n",
    "            [B_21 * v * np.sin(delta), B_22 * np.cos(delta) - 2 * B_22 * v**2],\n",
    "        ]\n",
    "    )\n",
    "\n",
    "    return np.linalg.inv(J)\n",
    "\n",
    "\n",
    "for i in [1, 2, 3]:\n",
    "    delta_cur = X[-1][0]\n",
    "    v_cur = X[-1][1]\n",
    "    mismatch = np.array(\n",
    "        [\n",
    "            -0.5 - (B_21 * v_cur * np.sin(delta_cur)),\n",
    "            -0.3 - (-B_21 * v_cur * np.cos(delta_cur) - B_22 * v_cur**2),\n",
    "        ]\n",
    "    )\n",
    "    new_X = X[-1] + jacobian_inverse(X[-1]).dot(mismatch)\n",
    "\n",
    "    X.append(np.ravel(new_X))\n",
    "\n",
    "\n",
    "df = pd.DataFrame(\n",
    "    {\n",
    "        \"iteration\": [1, 2, 3],\n",
    "        \"angle for bus 2 [radians]\": [xx[0] for xx in X[1:]],\n",
    "        \"magnitude for bus 2 [pu]\": [xx[1] for xx in X[1:]],\n",
    "    }\n",
    ")\n",
    "\n",
    "df"
   ]
  },
  {
   "cell_type": "code",
   "execution_count": 6,
   "metadata": {},
   "outputs": [
    {
     "data": {
      "text/plain": [
       "-1.0"
      ]
     },
     "execution_count": 6,
     "metadata": {},
     "output_type": "execute_result"
    }
   ],
   "source": [
    "np.cos(np.pi)"
   ]
  }
 ],
 "metadata": {
  "kernelspec": {
   "display_name": "Python 3",
   "language": "python",
   "name": "python3"
  },
  "language_info": {
   "codemirror_mode": {
    "name": "ipython",
    "version": 3
   },
   "file_extension": ".py",
   "mimetype": "text/x-python",
   "name": "python",
   "nbconvert_exporter": "python",
   "pygments_lexer": "ipython3",
   "version": "3.11.6"
  }
 },
 "nbformat": 4,
 "nbformat_minor": 2
}
