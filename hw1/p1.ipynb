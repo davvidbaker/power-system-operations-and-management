{
 "cells": [
  {
   "cell_type": "markdown",
   "metadata": {},
   "source": [
    "Gauss"
   ]
  },
  {
   "cell_type": "code",
   "execution_count": 44,
   "metadata": {},
   "outputs": [
    {
     "name": "stdout",
     "output_type": "stream",
     "text": [
      "took 15 iterations\n"
     ]
    },
    {
     "data": {
      "text/plain": [
       "[(0.9976313146636302, -0.014018557035269214),\n",
       " (0.9983353371644513, -0.014997561323291783)]"
      ]
     },
     "execution_count": 44,
     "metadata": {},
     "output_type": "execute_result"
    }
   ],
   "source": [
    "import numpy as np\n",
    "\n",
    "y_12 = 1 / (0.01 + 0.01j)\n",
    "y_13 = 1 / (0.02 + 0.02j)\n",
    "y_23 = 1 / (0.03 + 0.03j)\n",
    "\n",
    "\n",
    "# polar form to rectangular\n",
    "def P2R(A, phi):\n",
    "    return A * (np.cos(phi) + np.sin(phi) * 1j)\n",
    "\n",
    "\n",
    "# rectangular to polar\n",
    "def R2P(x):\n",
    "    return abs(x), np.angle(x)\n",
    "\n",
    "\n",
    "Y = np.matrix(\n",
    "    [\n",
    "        [y_12 + y_13, -y_12, -y_13],\n",
    "        [-y_12, y_12 + y_23, -y_23],\n",
    "        [-y_13, -y_23, y_13 + y_23],\n",
    "    ]\n",
    ")\n",
    "\n",
    "# complex powers at buses 1 and 2\n",
    "S = [-0.4 + 0.2j, -0.3 + 0.3j]\n",
    "\n",
    "\n",
    "def check_symmetric(a, rtol=1e-05, atol=1e-08):\n",
    "    return np.allclose(a, a.T, rtol=rtol, atol=atol)\n",
    "\n",
    "\n",
    "if not check_symmetric(Y):\n",
    "    raise Exception(\"not symmetric, something is wrong with your admittance matrix\")\n",
    "\n",
    "\n",
    "# buses 1 and 2\n",
    "pq_buses = [0, 1]\n",
    "\n",
    "all_buses = [0, 1, 2]\n",
    "\n",
    "\n",
    "# voltage and angle, flat start\n",
    "V = [[(1, 0), (1, 0)]]\n",
    "\n",
    "i = 0\n",
    "\n",
    "\n",
    "TOLERANCE = 10e-6\n",
    "\n",
    "\n",
    "def has_converged(voltage_list):\n",
    "    cur = voltage_list[-1]\n",
    "    prev = (\n",
    "        voltage_list[-2] if len(voltage_list) > 1 else [(0, 0), (0, 0)]\n",
    "    )  # dummy value if starting out\n",
    "\n",
    "    for k in pq_buses:\n",
    "        if np.abs(cur[k][0] - prev[k][0]) > TOLERANCE:\n",
    "            return False\n",
    "\n",
    "    return True\n",
    "\n",
    "\n",
    "while not has_converged(V) and i < 1000:\n",
    "    i += 1\n",
    "    new_v = [(0, 0), (0, 0)]  # initialize new voltages with dummy values\n",
    "    for k in pq_buses:\n",
    "        sum_term = 0\n",
    "        for j in all_buses:\n",
    "            if k != j:\n",
    "                # slack bus when j == 2\n",
    "                V_j = P2R(1, 0) if j == 2 else P2R(*V[i - 1][j])\n",
    "                sum_term += Y[k, j] * V_j\n",
    "\n",
    "        new_v[k] = (1 / Y[k, k]) * ((np.conjugate(S[k]) / P2R(*V[i - 1][k])) - sum_term)\n",
    "\n",
    "    new_v_polar = [R2P(vv) for vv in new_v]\n",
    "    V.append(new_v_polar)\n",
    "\n",
    "\n",
    "print(f\"took {i} iterations\")\n",
    "V[-1]\n"
   ]
  },
  {
   "cell_type": "markdown",
   "metadata": {},
   "source": [
    "Gauss Seidel"
   ]
  },
  {
   "cell_type": "code",
   "execution_count": 46,
   "metadata": {},
   "outputs": [
    {
     "name": "stdout",
     "output_type": "stream",
     "text": [
      "took 7 iterations\n"
     ]
    },
    {
     "data": {
      "text/plain": [
       "(0.9976294692328347, -0.01393812329009965)"
      ]
     },
     "metadata": {},
     "output_type": "display_data"
    },
    {
     "data": {
      "text/plain": [
       "(0.9983280454368093, -0.014961074673454616)"
      ]
     },
     "metadata": {},
     "output_type": "display_data"
    }
   ],
   "source": [
    "import numpy as np\n",
    "\n",
    "y_12 = 1 / (0.01 + 0.01j)\n",
    "y_13 = 1 / (0.02 + 0.02j)\n",
    "y_23 = 1 / (0.03 + 0.03j)\n",
    "\n",
    "\n",
    "# polar form to rectangular\n",
    "def P2R(A, phi):\n",
    "    return A * (np.cos(phi) + np.sin(phi) * 1j)\n",
    "\n",
    "\n",
    "# rectangular to polar\n",
    "def R2P(x):\n",
    "    return abs(x), np.angle(x)\n",
    "\n",
    "\n",
    "Y = np.matrix(\n",
    "    [\n",
    "        [y_12 + y_13, -y_12, -y_13],\n",
    "        [-y_12, y_12 + y_23, -y_23],\n",
    "        [-y_13, -y_23, y_13 + y_23],\n",
    "    ]\n",
    ")\n",
    "\n",
    "# complex powers at buses 1 and 2\n",
    "S = [-0.4 + 0.2j, -0.3 + 0.3j]\n",
    "\n",
    "\n",
    "def check_symmetric(a, rtol=1e-05, atol=1e-08):\n",
    "    return np.allclose(a, a.T, rtol=rtol, atol=atol)\n",
    "\n",
    "\n",
    "if not check_symmetric(Y):\n",
    "    raise Exception(\"not symmetric, something is wrong with your admittance matrix\")\n",
    "\n",
    "\n",
    "# buses 1 and 2\n",
    "pq_buses = [0, 1]\n",
    "\n",
    "all_buses = [0, 1, 2]\n",
    "\n",
    "\n",
    "# voltage and angle, flat start\n",
    "# IMPORTANT! I changed how I am storing the voltage list compared to Gauss method.\n",
    "# Before my V looked like this:  V = [[(1, 0), (1, 0)]]\n",
    "V = ([(1, 0)], [(1, 0)])\n",
    "\n",
    "i = 0\n",
    "\n",
    "\n",
    "TOLERANCE = 10e-6\n",
    "\n",
    "\n",
    "def has_converged(voltage_list):\n",
    "    for k in pq_buses:\n",
    "        cur = voltage_list[k][-1]\n",
    "        prev = (\n",
    "            voltage_list[k][-2] if len(voltage_list[k]) > 1 else (0, 0)\n",
    "        )  # dummy value if starting out\n",
    "\n",
    "        if np.abs(cur[0] - prev[0]) > TOLERANCE:\n",
    "            return False\n",
    "\n",
    "    return True\n",
    "\n",
    "\n",
    "while not has_converged(V) and i < 1000:\n",
    "    i += 1\n",
    "    # new_v = [(0, 0), (0, 0)]  # initialize new voltages with dummy values\n",
    "    for k in pq_buses:\n",
    "        sum_term = 0\n",
    "        for j in all_buses:\n",
    "            if k != j:\n",
    "                # slack bus when j == 2\n",
    "                V_j_polar = ((1, 0)) if j == 2 else V[j][-1]\n",
    "                V_j = P2R(*V_j_polar)\n",
    "                sum_term += Y[k, j] * V_j\n",
    "\n",
    "        new_v_rect = (1 / Y[k, k]) * ((np.conjugate(S[k]) / P2R(*V[k][-1])) - sum_term)\n",
    "        new_v_polar = R2P(new_v_rect)\n",
    "        V[k].append(new_v_polar)\n",
    "        # print(\"down here\", k, new_v[k])\n",
    "\n",
    "\n",
    "print(f\"took {i} iterations\")\n",
    "display(V[0][-1], V[1][-1])"
   ]
  }
 ],
 "metadata": {
  "kernelspec": {
   "display_name": "Python 3",
   "language": "python",
   "name": "python3"
  },
  "language_info": {
   "codemirror_mode": {
    "name": "ipython",
    "version": 3
   },
   "file_extension": ".py",
   "mimetype": "text/x-python",
   "name": "python",
   "nbconvert_exporter": "python",
   "pygments_lexer": "ipython3",
   "version": "3.11.6"
  }
 },
 "nbformat": 4,
 "nbformat_minor": 2
}
